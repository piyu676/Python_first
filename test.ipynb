{
 "cells": [
  {
   "cell_type": "code",
   "execution_count": null,
   "id": "09cadb81-a544-49bb-bd29-2b6d59b0fa66",
   "metadata": {},
   "outputs": [],
   "source": []
  }
 ],
 "metadata": {
  "kernelspec": {
   "display_name": "",
   "name": ""
  },
  "language_info": {
   "name": ""
  }
 },
 "nbformat": 4,
 "nbformat_minor": 5
}
